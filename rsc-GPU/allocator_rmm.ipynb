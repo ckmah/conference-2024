{
 "cells": [
  {
   "cell_type": "code",
   "execution_count": 3,
   "id": "6121cf97-1a8c-4bb8-a658-675addcd4090",
   "metadata": {},
   "outputs": [],
   "source": [
    "import rapids_singlecell as rsc\n",
    "import anndata as ad\n",
    "import cupy as cp"
   ]
  },
  {
   "cell_type": "code",
   "execution_count": 4,
   "id": "12f68ca8-bbdb-4423-a2fa-bcf730c3bc12",
   "metadata": {},
   "outputs": [],
   "source": [
    "import rmm\n",
    "from rmm.allocators.cupy import rmm_cupy_allocator\n",
    "rmm.reinitialize(\n",
    "    managed_memory=False, # Allows oversubscription\n",
    "    pool_allocator=False, # default is False\n",
    ")\n",
    "cp.cuda.set_allocator(rmm_cupy_allocator)"
   ]
  },
  {
   "cell_type": "code",
   "execution_count": 5,
   "id": "7b71f808-f355-4caf-86e7-589525011b16",
   "metadata": {},
   "outputs": [],
   "source": [
    "adata = ad.read_h5ad(\"../2024_gpu_severin.dicks/notebooks/h5/harmony.h5ad\")\n",
    "adata.obs[\"sample\"]=adata.obs[\"PatientNumber\"]"
   ]
  },
  {
   "cell_type": "code",
   "execution_count": 6,
   "id": "462e8108-1307-46ed-af5e-bf19a9718e89",
   "metadata": {},
   "outputs": [
    {
     "name": "stderr",
     "output_type": "stream",
     "text": [
      "2024-09-12 14:42:01,867 - harmonypy_gpu - INFO - Iteration 1 of 10\n",
      "2024-09-12 14:42:06,697 - harmonypy_gpu - INFO - Iteration 2 of 10\n",
      "2024-09-12 14:42:08,645 - harmonypy_gpu - INFO - Iteration 3 of 10\n",
      "2024-09-12 14:42:10,567 - harmonypy_gpu - INFO - Iteration 4 of 10\n",
      "2024-09-12 14:42:12,480 - harmonypy_gpu - INFO - Iteration 5 of 10\n",
      "2024-09-12 14:42:13,960 - harmonypy_gpu - INFO - Iteration 6 of 10\n",
      "2024-09-12 14:42:15,439 - harmonypy_gpu - INFO - Converged after 6 iterations\n"
     ]
    },
    {
     "name": "stdout",
     "output_type": "stream",
     "text": [
      "CPU times: user 4.98 s, sys: 6.17 s, total: 11.1 s\n",
      "Wall time: 35.8 s\n"
     ]
    }
   ],
   "source": [
    "%%time\n",
    "rsc.pp.harmony_integrate(adata,key=\"sample\")"
   ]
  },
  {
   "cell_type": "code",
   "execution_count": null,
   "id": "c8c77257-20b7-455b-ae25-5b3da771d050",
   "metadata": {},
   "outputs": [],
   "source": [
    "import rmm\n",
    "from rmm.allocators.cupy import rmm_cupy_allocator\n",
    "rmm.reinitialize(\n",
    "    managed_memory=False, # Allows oversubscription\n",
    "    pool_allocator=True, # default is False\n",
    ")\n",
    "cp.cuda.set_allocator(rmm_cupy_allocator)"
   ]
  },
  {
   "cell_type": "code",
   "execution_count": null,
   "id": "190d73d7-fd58-416f-ae7b-2105e40bd077",
   "metadata": {},
   "outputs": [],
   "source": [
    "%%time\n",
    "rsc.pp.harmony_integrate(adata,key=\"sample\")"
   ]
  },
  {
   "cell_type": "code",
   "execution_count": null,
   "id": "a8fed70e-93ae-4397-958e-d9b349f2ac3a",
   "metadata": {},
   "outputs": [],
   "source": []
  }
 ],
 "metadata": {
  "kernelspec": {
   "display_name": "Python 3 (ipykernel)",
   "language": "python",
   "name": "python3"
  },
  "language_info": {
   "codemirror_mode": {
    "name": "ipython",
    "version": 3
   },
   "file_extension": ".py",
   "mimetype": "text/x-python",
   "name": "python",
   "nbconvert_exporter": "python",
   "pygments_lexer": "ipython3",
   "version": "3.11.9"
  }
 },
 "nbformat": 4,
 "nbformat_minor": 5
}
