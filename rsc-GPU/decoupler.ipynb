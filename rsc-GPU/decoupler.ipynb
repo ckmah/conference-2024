{
 "cells": [
  {
   "cell_type": "code",
   "execution_count": 2,
   "id": "8f439810-b259-437d-b196-e1228125791e",
   "metadata": {
    "tags": []
   },
   "outputs": [],
   "source": [
    "import scanpy as sc\n",
    "import anndata\n",
    "import cupy as cp\n",
    "\n",
    "import time\n",
    "import rapids_singlecell as rsc\n",
    "import decoupler as dc\n",
    "\n",
    "import warnings\n",
    "warnings.filterwarnings(\"ignore\")"
   ]
  },
  {
   "cell_type": "code",
   "execution_count": 3,
   "id": "aec599a2-7040-4f71-a1e9-e1ca08460210",
   "metadata": {},
   "outputs": [],
   "source": [
    "import rmm\n",
    "from rmm.allocators.cupy import rmm_cupy_allocator\n",
    "rmm.reinitialize(\n",
    "    managed_memory=False, # Allows oversubscription\n",
    "    pool_allocator=True, # default is False\n",
    ")\n",
    "cp.cuda.set_allocator(rmm_cupy_allocator)"
   ]
  },
  {
   "cell_type": "code",
   "execution_count": null,
   "id": "afdb24be-ec28-4ced-90b9-f0979a792e88",
   "metadata": {},
   "outputs": [],
   "source": []
  },
  {
   "cell_type": "code",
   "execution_count": 4,
   "id": "b325e38a-efe6-49de-aac2-80d95182fd8b",
   "metadata": {},
   "outputs": [
    {
     "name": "stdout",
     "output_type": "stream",
     "text": [
      "CPU times: user 293 ms, sys: 1.54 s, total: 1.83 s\n",
      "Wall time: 3.67 s\n"
     ]
    }
   ],
   "source": [
    "%%time\n",
    "adata = sc.read(\"../2024_gpu_severin.dicks/notebooks/h5/200000.h5ad\")\n",
    "adata.var_names_make_unique()"
   ]
  },
  {
   "cell_type": "code",
   "execution_count": 5,
   "id": "5b411bb0-427b-4ca2-9af9-e1df300794de",
   "metadata": {
    "tags": []
   },
   "outputs": [
    {
     "name": "stdout",
     "output_type": "stream",
     "text": [
      "CPU times: user 240 ms, sys: 1.25 s, total: 1.49 s\n",
      "Wall time: 2.83 s\n"
     ]
    }
   ],
   "source": [
    "%%time\n",
    "rsc.get.anndata_to_GPU(adata)"
   ]
  },
  {
   "cell_type": "code",
   "execution_count": 6,
   "id": "659ef9dc-d956-4385-be1f-9d3ea3920c09",
   "metadata": {},
   "outputs": [
    {
     "name": "stdout",
     "output_type": "stream",
     "text": [
      "CPU times: user 4.63 ms, sys: 995 μs, total: 5.62 ms\n",
      "Wall time: 16.7 ms\n"
     ]
    }
   ],
   "source": [
    "%%time\n",
    "rsc.pp.flag_gene_family(adata,gene_family_name=\"MT\", gene_family_prefix=\"MT\")"
   ]
  },
  {
   "cell_type": "code",
   "execution_count": 7,
   "id": "b434e6f0-fc3f-4d96-b0c7-c3a501b00ce4",
   "metadata": {},
   "outputs": [
    {
     "name": "stdout",
     "output_type": "stream",
     "text": [
      "CPU times: user 2.49 ms, sys: 1.45 ms, total: 3.94 ms\n",
      "Wall time: 3.68 ms\n"
     ]
    }
   ],
   "source": [
    "%%time\n",
    "rsc.pp.flag_gene_family(adata,gene_family_name=\"RIBO\", gene_family_prefix=\"RPS\")"
   ]
  },
  {
   "cell_type": "code",
   "execution_count": 8,
   "id": "5ead57e3-fc52-4e24-9d12-aba2db4288fc",
   "metadata": {},
   "outputs": [
    {
     "name": "stdout",
     "output_type": "stream",
     "text": [
      "CPU times: user 103 ms, sys: 48.3 ms, total: 152 ms\n",
      "Wall time: 10.7 s\n"
     ]
    }
   ],
   "source": [
    "%%time\n",
    "rsc.pp.calculate_qc_metrics(adata,qc_vars=[\"MT\",\"RIBO\"])"
   ]
  },
  {
   "cell_type": "code",
   "execution_count": 9,
   "id": "7eccde08-ad92-45f4-ba3f-9d34093a0094",
   "metadata": {},
   "outputs": [
    {
     "name": "stdout",
     "output_type": "stream",
     "text": [
      "CPU times: user 30.6 ms, sys: 10.2 ms, total: 40.8 ms\n",
      "Wall time: 73 ms\n"
     ]
    }
   ],
   "source": [
    "%%time\n",
    "adata = adata[adata.obs[\"n_genes_by_counts\"] < 5000]\n",
    "adata = adata[adata.obs[\"n_genes_by_counts\"] > 500]\n",
    "adata = adata[adata.obs[\"pct_counts_MT\"] < 20]"
   ]
  },
  {
   "cell_type": "markdown",
   "id": "db233fd3-50be-434a-b227-cf39bdd5b849",
   "metadata": {},
   "source": [
    "We also filter out genes that are expressed in less than 3 cells."
   ]
  },
  {
   "cell_type": "code",
   "execution_count": 10,
   "id": "b37d6c16-4fe6-4cb0-9a42-4e78ec3f7e3c",
   "metadata": {},
   "outputs": [
    {
     "name": "stdout",
     "output_type": "stream",
     "text": [
      "filtered out 7131 genes based on n_cells_by_counts\n",
      "CPU times: user 87 ms, sys: 59.9 ms, total: 147 ms\n",
      "Wall time: 2.21 s\n"
     ]
    }
   ],
   "source": [
    "%%time\n",
    "rsc.pp.filter_genes(adata,min_count=3)"
   ]
  },
  {
   "cell_type": "markdown",
   "id": "258360e7-c555-4d1d-9810-d67422d174ab",
   "metadata": {},
   "source": [
    "The size of our count matrix is now reduced."
   ]
  },
  {
   "cell_type": "code",
   "execution_count": 11,
   "id": "f71d90b2-d693-4230-87c0-4345ac46a6df",
   "metadata": {},
   "outputs": [
    {
     "data": {
      "text/plain": [
       "(197045, 20867)"
      ]
     },
     "execution_count": 11,
     "metadata": {},
     "output_type": "execute_result"
    }
   ],
   "source": [
    "adata.shape"
   ]
  },
  {
   "cell_type": "markdown",
   "id": "dfcc7fb8-1572-4005-a57f-58d8e1c49cc3",
   "metadata": {},
   "source": [
    "### Normalize"
   ]
  },
  {
   "cell_type": "markdown",
   "id": "ecd62e56-9da0-4f35-8f28-b55cc7e2b921",
   "metadata": {},
   "source": [
    "We normalize the count matrix so that the total counts in each cell sum to 1e4."
   ]
  },
  {
   "cell_type": "code",
   "execution_count": 12,
   "id": "3cbd780b-354c-49eb-9075-ba4dada32368",
   "metadata": {},
   "outputs": [
    {
     "name": "stdout",
     "output_type": "stream",
     "text": [
      "CPU times: user 1.61 ms, sys: 326 μs, total: 1.94 ms\n",
      "Wall time: 51.2 ms\n"
     ]
    }
   ],
   "source": [
    "%%time\n",
    "rsc.pp.normalize_total(adata,target_sum=1e4)"
   ]
  },
  {
   "cell_type": "markdown",
   "id": "6c13b266-4407-4e89-88a4-1a13185acbb0",
   "metadata": {},
   "source": [
    "Next, we data transform the count matrix."
   ]
  },
  {
   "cell_type": "code",
   "execution_count": 13,
   "id": "78d016e0-5cc4-45f6-a9ba-c429c1c88571",
   "metadata": {},
   "outputs": [
    {
     "name": "stdout",
     "output_type": "stream",
     "text": [
      "CPU times: user 754 μs, sys: 0 ns, total: 754 μs\n",
      "Wall time: 594 μs\n"
     ]
    }
   ],
   "source": [
    "%%time\n",
    "rsc.pp.log1p(adata)"
   ]
  },
  {
   "cell_type": "code",
   "execution_count": 14,
   "id": "200cb63f-5846-4bd0-a6ac-ce8137010b9a",
   "metadata": {},
   "outputs": [
    {
     "name": "stderr",
     "output_type": "stream",
     "text": [
      "WARNING:root:Failed to download from `https://omnipathdb.org/`.\n",
      "WARNING:root:Traceback (most recent call last):\n",
      "  File \"/home/icb/severin.dicks/miniconda3/envs/rapids-24.06/lib/python3.11/site-packages/urllib3/connectionpool.py\", line 715, in urlopen\n",
      "    httplib_response = self._make_request(\n",
      "                       ^^^^^^^^^^^^^^^^^^^\n",
      "  File \"/home/icb/severin.dicks/miniconda3/envs/rapids-24.06/lib/python3.11/site-packages/urllib3/connectionpool.py\", line 404, in _make_request\n",
      "    self._validate_conn(conn)\n",
      "  File \"/home/icb/severin.dicks/miniconda3/envs/rapids-24.06/lib/python3.11/site-packages/urllib3/connectionpool.py\", line 1060, in _validate_conn\n",
      "    conn.connect()\n",
      "  File \"/home/icb/severin.dicks/miniconda3/envs/rapids-24.06/lib/python3.11/site-packages/urllib3/connection.py\", line 419, in connect\n",
      "    self.sock = ssl_wrap_socket(\n",
      "                ^^^^^^^^^^^^^^^^\n",
      "  File \"/home/icb/severin.dicks/miniconda3/envs/rapids-24.06/lib/python3.11/site-packages/urllib3/util/ssl_.py\", line 449, in ssl_wrap_socket\n",
      "    ssl_sock = _ssl_wrap_socket_impl(\n",
      "               ^^^^^^^^^^^^^^^^^^^^^^\n",
      "  File \"/home/icb/severin.dicks/miniconda3/envs/rapids-24.06/lib/python3.11/site-packages/urllib3/util/ssl_.py\", line 493, in _ssl_wrap_socket_impl\n",
      "    return ssl_context.wrap_socket(sock, server_hostname=server_hostname)\n",
      "           ^^^^^^^^^^^^^^^^^^^^^^^^^^^^^^^^^^^^^^^^^^^^^^^^^^^^^^^^^^^^^^\n",
      "  File \"/home/icb/severin.dicks/miniconda3/envs/rapids-24.06/lib/python3.11/ssl.py\", line 517, in wrap_socket\n",
      "    return self.sslsocket_class._create(\n",
      "           ^^^^^^^^^^^^^^^^^^^^^^^^^^^^^\n",
      "  File \"/home/icb/severin.dicks/miniconda3/envs/rapids-24.06/lib/python3.11/ssl.py\", line 1104, in _create\n",
      "    self.do_handshake()\n",
      "  File \"/home/icb/severin.dicks/miniconda3/envs/rapids-24.06/lib/python3.11/ssl.py\", line 1382, in do_handshake\n",
      "    self._sslobj.do_handshake()\n",
      "ssl.SSLEOFError: [SSL: UNEXPECTED_EOF_WHILE_READING] EOF occurred in violation of protocol (_ssl.c:1006)\n",
      "\n",
      "During handling of the above exception, another exception occurred:\n",
      "\n",
      "Traceback (most recent call last):\n",
      "  File \"/home/icb/severin.dicks/miniconda3/envs/rapids-24.06/lib/python3.11/site-packages/requests/adapters.py\", line 667, in send\n",
      "    resp = conn.urlopen(\n",
      "           ^^^^^^^^^^^^^\n",
      "  File \"/home/icb/severin.dicks/miniconda3/envs/rapids-24.06/lib/python3.11/site-packages/urllib3/connectionpool.py\", line 801, in urlopen\n",
      "    retries = retries.increment(\n",
      "              ^^^^^^^^^^^^^^^^^^\n",
      "  File \"/home/icb/severin.dicks/miniconda3/envs/rapids-24.06/lib/python3.11/site-packages/urllib3/util/retry.py\", line 594, in increment\n",
      "    raise MaxRetryError(_pool, url, error or ResponseError(cause))\n",
      "urllib3.exceptions.MaxRetryError: HTTPSConnectionPool(host='omnipathdb.org', port=443): Max retries exceeded with url: /queries/enzsub?format=json (Caused by SSLError(SSLEOFError(8, '[SSL: UNEXPECTED_EOF_WHILE_READING] EOF occurred in violation of protocol (_ssl.c:1006)')))\n",
      "\n",
      "During handling of the above exception, another exception occurred:\n",
      "\n",
      "Traceback (most recent call last):\n",
      "  File \"/home/icb/severin.dicks/miniconda3/envs/rapids-24.06/lib/python3.11/site-packages/omnipath/_core/downloader/_downloader.py\", line 143, in maybe_download\n",
      "    res = self._download(req)\n",
      "          ^^^^^^^^^^^^^^^^^^^\n",
      "  File \"/home/icb/severin.dicks/miniconda3/envs/rapids-24.06/lib/python3.11/site-packages/omnipath/_core/downloader/_downloader.py\", line 178, in _download\n",
      "    with self._session.send(\n",
      "         ^^^^^^^^^^^^^^^^^^^\n",
      "  File \"/home/icb/severin.dicks/miniconda3/envs/rapids-24.06/lib/python3.11/site-packages/requests/sessions.py\", line 703, in send\n",
      "    r = adapter.send(request, **kwargs)\n",
      "        ^^^^^^^^^^^^^^^^^^^^^^^^^^^^^^^\n",
      "  File \"/home/icb/severin.dicks/miniconda3/envs/rapids-24.06/lib/python3.11/site-packages/requests/adapters.py\", line 698, in send\n",
      "    raise SSLError(e, request=request)\n",
      "requests.exceptions.SSLError: HTTPSConnectionPool(host='omnipathdb.org', port=443): Max retries exceeded with url: /queries/enzsub?format=json (Caused by SSLError(SSLEOFError(8, '[SSL: UNEXPECTED_EOF_WHILE_READING] EOF occurred in violation of protocol (_ssl.c:1006)')))\n",
      "\n"
     ]
    }
   ],
   "source": [
    "#net = dc.get_dorothea(organism='mouse', levels=['A','B','C'])\n",
    "net = dc.get_progeny(organism='mouse')"
   ]
  },
  {
   "cell_type": "code",
   "execution_count": 15,
   "id": "c53f8beb-bc85-4a19-949a-3642ef1ed5fd",
   "metadata": {},
   "outputs": [],
   "source": [
    "adata.layers[\"counts\"] = adata.X.copy()\n",
    "rsc.get.anndata_to_CPU(adata)"
   ]
  },
  {
   "cell_type": "code",
   "execution_count": 16,
   "id": "a063b550-efef-4e71-81de-727f78ef8746",
   "metadata": {},
   "outputs": [
    {
     "name": "stdout",
     "output_type": "stream",
     "text": [
      "1 features of mat are empty, they will be removed.\n",
      "Running aucell on mat with 197045 samples and 20866 targets for 14 sources.\n"
     ]
    },
    {
     "data": {
      "application/vnd.jupyter.widget-view+json": {
       "model_id": "4bf51f83d41c4d5d9223ad77e7bf29b0",
       "version_major": 2,
       "version_minor": 0
      },
      "text/plain": [
       "  0%|          | 0/7 [00:00<?, ?it/s]"
      ]
     },
     "metadata": {},
     "output_type": "display_data"
    },
    {
     "name": "stdout",
     "output_type": "stream",
     "text": [
      "CPU times: user 4.8 s, sys: 87.4 ms, total: 4.89 s\n",
      "Wall time: 13.6 s\n"
     ]
    }
   ],
   "source": [
    "%%time\n",
    "rsc.dcg.run_aucell(mat=adata, net=net,batch_size=30000,layer =\"counts\",\n",
    "                   source='source', target='target', verbose=True,pre_load = True)"
   ]
  },
  {
   "cell_type": "code",
   "execution_count": null,
   "id": "a39f4e99-e79b-4584-aaf3-1dfc139817ce",
   "metadata": {
    "tags": []
   },
   "outputs": [
    {
     "name": "stdout",
     "output_type": "stream",
     "text": [
      "1 features of mat are empty, they will be removed.\n",
      "Running mlm on mat with 197045 samples and 20866 targets for 14 sources.\n"
     ]
    },
    {
     "data": {
      "application/vnd.jupyter.widget-view+json": {
       "model_id": "36cc8a347bf94b03a71b4c5ff6e1c209",
       "version_major": 2,
       "version_minor": 0
      },
      "text/plain": [
       "  0%|          | 0/20 [00:00<?, ?it/s]"
      ]
     },
     "metadata": {},
     "output_type": "display_data"
    }
   ],
   "source": [
    "%%time\n",
    "rsc.dcg.run_mlm(mat=adata, net=net, source='source', target='target', weight='weight',\n",
    "                verbose=True, layer=\"counts\",pre_load = True)"
   ]
  },
  {
   "cell_type": "code",
   "execution_count": null,
   "id": "64847b5b-a988-442b-a29e-bd5622760d6e",
   "metadata": {
    "tags": []
   },
   "outputs": [],
   "source": [
    "%%time\n",
    "rsc.dcg.run_ulm(mat=adata, net=net, source='source', target='target', weight='weight',\n",
    "                verbose=True, layer=\"counts\",pre_load = True)"
   ]
  },
  {
   "cell_type": "code",
   "execution_count": null,
   "id": "6d9eb9fe-5596-4563-a96b-bb3d6dfe5446",
   "metadata": {},
   "outputs": [],
   "source": []
  }
 ],
 "metadata": {
  "kernelspec": {
   "display_name": "Python 3 (ipykernel)",
   "language": "python",
   "name": "python3"
  },
  "language_info": {
   "codemirror_mode": {
    "name": "ipython",
    "version": 3
   },
   "file_extension": ".py",
   "mimetype": "text/x-python",
   "name": "python",
   "nbconvert_exporter": "python",
   "pygments_lexer": "ipython3",
   "version": "3.11.9"
  }
 },
 "nbformat": 4,
 "nbformat_minor": 5
}
