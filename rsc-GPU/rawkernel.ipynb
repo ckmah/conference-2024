{
 "cells": [
  {
   "cell_type": "markdown",
   "id": "commercial-typing",
   "metadata": {},
   "source": [
    "# How to use RawKernels in CuPy\n",
    "**Author:** [Severin Dicks](https://github.com/Intron7)"
   ]
  },
  {
   "cell_type": "markdown",
   "id": "fda0ac25-cdbc-451f-84a9-d56a65fec2c0",
   "metadata": {},
   "source": [
    "Lets look at a CUDA kernel to Normalize a CSR Matrix to a Targetsum"
   ]
  },
  {
   "cell_type": "code",
   "execution_count": 1,
   "id": "fabulous-ultimate",
   "metadata": {
    "scrolled": true,
    "tags": []
   },
   "outputs": [],
   "source": [
    "import scanpy as sc\n",
    "import anndata\n",
    "import cupy as cp\n",
    "\n",
    "import time\n",
    "import rapids_singlecell as rsc\n",
    "import math\n",
    "\n",
    "import warnings\n",
    "warnings.filterwarnings(\"ignore\")"
   ]
  },
  {
   "cell_type": "code",
   "execution_count": 3,
   "id": "twenty-orbit",
   "metadata": {},
   "outputs": [],
   "source": [
    "import rmm\n",
    "from rmm.allocators.cupy import rmm_cupy_allocator\n",
    "rmm.reinitialize(\n",
    "    managed_memory=False, # Allows oversubscription\n",
    "    pool_allocator=True, # default is False\n",
    ")\n",
    "cp.cuda.set_allocator(rmm_cupy_allocator)"
   ]
  },
  {
   "cell_type": "markdown",
   "id": "scenic-overview",
   "metadata": {},
   "source": [
    "## Load and Prepare Data"
   ]
  },
  {
   "cell_type": "markdown",
   "id": "saved-plain",
   "metadata": {},
   "source": [
    "We load the sparse count matrix from an `h5ad` file using Scanpy. The sparse count matrix will then be placed on the GPU. "
   ]
  },
  {
   "cell_type": "code",
   "execution_count": 4,
   "id": "original-election",
   "metadata": {},
   "outputs": [],
   "source": [
    "data_load_start = time.time()"
   ]
  },
  {
   "cell_type": "code",
   "execution_count": 5,
   "id": "comic-fundamental",
   "metadata": {},
   "outputs": [
    {
     "name": "stdout",
     "output_type": "stream",
     "text": [
      "CPU times: user 1.17 s, sys: 6.9 s, total: 8.07 s\n",
      "Wall time: 12.3 s\n"
     ]
    }
   ],
   "source": [
    "%%time\n",
    "adata = sc.read(\"../2024_gpu_severin.dicks/notebooks/h5/norm_work.h5ad\")"
   ]
  },
  {
   "cell_type": "code",
   "execution_count": 6,
   "id": "assured-premiere",
   "metadata": {
    "tags": []
   },
   "outputs": [
    {
     "name": "stdout",
     "output_type": "stream",
     "text": [
      "CPU times: user 587 ms, sys: 2.4 s, total: 2.99 s\n",
      "Wall time: 4 s\n"
     ]
    }
   ],
   "source": [
    "%%time\n",
    "rsc.get.anndata_to_GPU(adata)"
   ]
  },
  {
   "cell_type": "markdown",
   "id": "cb84fad7-1f42-49ef-8ade-e6aebbf56f0e",
   "metadata": {},
   "source": [
    "## Lets look at X\n",
    "\n",
    "X is a sparse CSR matrix. "
   ]
  },
  {
   "cell_type": "code",
   "execution_count": 7,
   "id": "a4c12880-baa8-4891-bd51-bf35a1032bf1",
   "metadata": {},
   "outputs": [],
   "source": [
    "X = adata.X.copy()"
   ]
  },
  {
   "cell_type": "code",
   "execution_count": 8,
   "id": "e661fb25-2a38-4052-b025-73518a0e53fd",
   "metadata": {},
   "outputs": [
    {
     "data": {
      "text/plain": [
       "<cupyx.scipy.sparse._csr.csr_matrix at 0x7fa55a426dd0>"
      ]
     },
     "execution_count": 8,
     "metadata": {},
     "output_type": "execute_result"
    }
   ],
   "source": [
    "X"
   ]
  },
  {
   "cell_type": "code",
   "execution_count": 9,
   "id": "a86cdbe1-910e-4af6-9091-e861e54b3296",
   "metadata": {},
   "outputs": [
    {
     "data": {
      "text/plain": [
       "array([         0,       1807,       3056, ..., 1005501520, 1005503246,\n",
       "       1005505079], dtype=int32)"
      ]
     },
     "execution_count": 9,
     "metadata": {},
     "output_type": "execute_result"
    }
   ],
   "source": [
    "X.indptr"
   ]
  },
  {
   "cell_type": "code",
   "execution_count": 10,
   "id": "65d0538b-9c34-4a31-8dbf-338de6aae2b4",
   "metadata": {},
   "outputs": [
    {
     "data": {
      "text/plain": [
       "array([   11,    25,    32, ..., 21842, 21844, 21856], dtype=int32)"
      ]
     },
     "execution_count": 10,
     "metadata": {},
     "output_type": "execute_result"
    }
   ],
   "source": [
    "X.indices"
   ]
  },
  {
   "cell_type": "code",
   "execution_count": 11,
   "id": "4bd1675f-657f-4906-abf6-32d4b322a3ae",
   "metadata": {},
   "outputs": [
    {
     "data": {
      "text/plain": [
       "array([ 1.,  1.,  1., ...,  2., 14.,  2.], dtype=float32)"
      ]
     },
     "execution_count": 11,
     "metadata": {},
     "output_type": "execute_result"
    }
   ],
   "source": [
    "X.data"
   ]
  },
  {
   "cell_type": "markdown",
   "id": "c6a30522-2cf4-45a2-bd6e-3bfafd829b4a",
   "metadata": {},
   "source": [
    "## Lets Write/ Explore the Kernel\n",
    "\n",
    "For each row we sum up all `Values` to get the `Rowsum`.\n",
    "\n",
    "Than we divide the `Targetsum` by the `Rowsum` to get the `scaler` for each row.\n",
    "\n",
    "Lastly we multiply the `Values` with the rowwise `scaler`."
   ]
  },
  {
   "cell_type": "code",
   "execution_count": 15,
   "id": "15d2d62f-56ba-4424-ba52-5de982a4f894",
   "metadata": {},
   "outputs": [],
   "source": [
    "from cuml.common.kernel_utils import cuda_kernel_factory\n",
    "\n",
    "_mul_kernel_csr = r\"\"\"\n",
    "extern \"C\" __global__\n",
    "void mul_csr(const int *indptr, float *data,\n",
    "                    int nrows, int tsum) {\n",
    "        int row = blockDim.x * blockIdx.x + threadIdx.x;\n",
    "\n",
    "        if(row >= nrows)\n",
    "            return;\n",
    "\n",
    "        float scale = 0.0;\n",
    "        int start_idx = indptr[row];\n",
    "        int stop_idx = indptr[row+1];\n",
    "\n",
    "        for(int i = start_idx; i < stop_idx; i++)\n",
    "            scale += data[i];\n",
    "\n",
    "        if(scale > 0.0) {\n",
    "            scale = tsum / scale;\n",
    "            for(int i = start_idx; i < stop_idx; i++)\n",
    "                data[i] *= scale;\n",
    "        }\n",
    "    }\n",
    "\"\"\"\n",
    "\n",
    "mul_kernel = cp.RawKernel(_mul_kernel_csr, \"mul_csr\")"
   ]
  },
  {
   "cell_type": "markdown",
   "id": "0b6435b9-1584-4807-8224-c3b1e4ca964e",
   "metadata": {},
   "source": [
    "## Lets Call the Kernel\n",
    "\n",
    "As we see before the kernel only give use the function for 1 row. But we need to normalize all rows. So the function call contains the grid and thread layout.\n",
    "\n",
    "We need one thread per row. Thats how we have to create the launch."
   ]
  },
  {
   "cell_type": "code",
   "execution_count": 16,
   "id": "a7a4ad01-e87e-4ec4-8da5-775db0191482",
   "metadata": {},
   "outputs": [],
   "source": [
    "mul_kernel(\n",
    "    (math.ceil(X.shape[0] / 128),), #How many blocks do we need\n",
    "    (128,), # the number of threads per block\n",
    "    (X.indptr, X.data, X.shape[0], int(10000)),# Giving the function the arguments\n",
    ")"
   ]
  },
  {
   "cell_type": "code",
   "execution_count": 17,
   "id": "eb9e7af4-955c-4a30-a0b0-6fff66b6f47c",
   "metadata": {},
   "outputs": [
    {
     "data": {
      "text/plain": [
       "array([ 2.471577 ,  2.471577 ,  2.471577 , ...,  4.8134775, 33.694344 ,\n",
       "        4.8134775], dtype=float32)"
      ]
     },
     "execution_count": 17,
     "metadata": {},
     "output_type": "execute_result"
    }
   ],
   "source": [
    " X.data"
   ]
  },
  {
   "cell_type": "code",
   "execution_count": null,
   "id": "3939abc1-2ae2-478b-8e45-f05b6a0a5ad2",
   "metadata": {},
   "outputs": [],
   "source": []
  }
 ],
 "metadata": {
  "kernelspec": {
   "display_name": "rapids-24.08",
   "language": "python",
   "name": "rapids-24.08"
  },
  "language_info": {
   "codemirror_mode": {
    "name": "ipython",
    "version": 3
   },
   "file_extension": ".py",
   "mimetype": "text/x-python",
   "name": "python",
   "nbconvert_exporter": "python",
   "pygments_lexer": "ipython3",
   "version": "3.11.9"
  }
 },
 "nbformat": 4,
 "nbformat_minor": 5
}
